{
 "cells": [
  {
   "cell_type": "markdown",
   "metadata": {},
   "source": [
    "<center><h1><b><font color=red >Detecting COVID-19 in X-ray images </font></b></h1></center>"
   ]
  },
  {
   "cell_type": "markdown",
   "metadata": {},
   "source": [
    "<center><h3><b><font color=green >Application des alogrithmes de ML </font></b></h3></center>\n"
   ]
  },
  {
   "cell_type": "markdown",
   "metadata": {},
   "source": [
    "<h1><b><font color=blue >1. Importation des bibliothèques nécessaires</font></b></h1>"
   ]
  },
  {
   "cell_type": "code",
   "execution_count": 15,
   "metadata": {},
   "outputs": [],
   "source": [
    "import pandas as pd \n",
    "import numpy as np \n",
    "from sklearn.metrics import accuracy_score, f1_score, confusion_matrix, roc_auc_score\n",
    "from sklearn.svm import SVC\n",
    "from sklearn.ensemble import RandomForestClassifier\n",
    "from xgboost import XGBRFClassifier"
   ]
  },
  {
   "cell_type": "markdown",
   "metadata": {},
   "source": [
    "<h1><b><font color=blue >2. Importation des données</font></b></h1>"
   ]
  },
  {
   "cell_type": "code",
   "execution_count": 18,
   "metadata": {},
   "outputs": [],
   "source": [
    "train = pd.read_csv(\"train.csv\", index_col=0)\n",
    "test = pd.read_csv(\"test.csv\", index_col=0)"
   ]
  },
  {
   "cell_type": "code",
   "execution_count": 19,
   "metadata": {},
   "outputs": [
    {
     "data": {
      "text/html": [
       "<div>\n",
       "<style scoped>\n",
       "    .dataframe tbody tr th:only-of-type {\n",
       "        vertical-align: middle;\n",
       "    }\n",
       "\n",
       "    .dataframe tbody tr th {\n",
       "        vertical-align: top;\n",
       "    }\n",
       "\n",
       "    .dataframe thead th {\n",
       "        text-align: right;\n",
       "    }\n",
       "</style>\n",
       "<table border=\"1\" class=\"dataframe\">\n",
       "  <thead>\n",
       "    <tr style=\"text-align: right;\">\n",
       "      <th></th>\n",
       "      <th>0</th>\n",
       "      <th>1</th>\n",
       "      <th>2</th>\n",
       "      <th>3</th>\n",
       "      <th>4</th>\n",
       "      <th>5</th>\n",
       "      <th>6</th>\n",
       "      <th>7</th>\n",
       "      <th>8</th>\n",
       "      <th>9</th>\n",
       "      <th>...</th>\n",
       "      <th>1015</th>\n",
       "      <th>1016</th>\n",
       "      <th>1017</th>\n",
       "      <th>1018</th>\n",
       "      <th>1019</th>\n",
       "      <th>1020</th>\n",
       "      <th>1021</th>\n",
       "      <th>1022</th>\n",
       "      <th>1023</th>\n",
       "      <th>0.1</th>\n",
       "    </tr>\n",
       "  </thead>\n",
       "  <tbody>\n",
       "    <tr>\n",
       "      <td>681</td>\n",
       "      <td>0.000328</td>\n",
       "      <td>0.004929</td>\n",
       "      <td>0.005321</td>\n",
       "      <td>0.001292</td>\n",
       "      <td>0.062069</td>\n",
       "      <td>0.082650</td>\n",
       "      <td>0.000331</td>\n",
       "      <td>0.004861</td>\n",
       "      <td>0.075276</td>\n",
       "      <td>0.000299</td>\n",
       "      <td>...</td>\n",
       "      <td>2.107787</td>\n",
       "      <td>0.076287</td>\n",
       "      <td>0.556899</td>\n",
       "      <td>2.712120</td>\n",
       "      <td>0.494462</td>\n",
       "      <td>0.854842</td>\n",
       "      <td>0.601104</td>\n",
       "      <td>0.536811</td>\n",
       "      <td>0.017668</td>\n",
       "      <td>1</td>\n",
       "    </tr>\n",
       "    <tr>\n",
       "      <td>189</td>\n",
       "      <td>0.000354</td>\n",
       "      <td>0.003756</td>\n",
       "      <td>0.006153</td>\n",
       "      <td>0.002245</td>\n",
       "      <td>0.055913</td>\n",
       "      <td>0.157290</td>\n",
       "      <td>0.000135</td>\n",
       "      <td>0.004607</td>\n",
       "      <td>0.084984</td>\n",
       "      <td>0.000538</td>\n",
       "      <td>...</td>\n",
       "      <td>1.706620</td>\n",
       "      <td>0.023214</td>\n",
       "      <td>1.320187</td>\n",
       "      <td>4.697856</td>\n",
       "      <td>1.902558</td>\n",
       "      <td>0.063625</td>\n",
       "      <td>2.158739</td>\n",
       "      <td>0.746960</td>\n",
       "      <td>0.022849</td>\n",
       "      <td>1</td>\n",
       "    </tr>\n",
       "    <tr>\n",
       "      <td>301</td>\n",
       "      <td>0.000502</td>\n",
       "      <td>0.003099</td>\n",
       "      <td>0.004760</td>\n",
       "      <td>0.002010</td>\n",
       "      <td>0.133078</td>\n",
       "      <td>0.091959</td>\n",
       "      <td>0.000024</td>\n",
       "      <td>0.004929</td>\n",
       "      <td>0.050983</td>\n",
       "      <td>0.000432</td>\n",
       "      <td>...</td>\n",
       "      <td>0.796577</td>\n",
       "      <td>0.184707</td>\n",
       "      <td>2.506305</td>\n",
       "      <td>2.013427</td>\n",
       "      <td>0.994651</td>\n",
       "      <td>0.351000</td>\n",
       "      <td>1.755205</td>\n",
       "      <td>0.970697</td>\n",
       "      <td>0.000000</td>\n",
       "      <td>1</td>\n",
       "    </tr>\n",
       "    <tr>\n",
       "      <td>76</td>\n",
       "      <td>0.000388</td>\n",
       "      <td>0.006418</td>\n",
       "      <td>0.003129</td>\n",
       "      <td>0.001311</td>\n",
       "      <td>0.127444</td>\n",
       "      <td>0.298274</td>\n",
       "      <td>0.000059</td>\n",
       "      <td>0.004782</td>\n",
       "      <td>0.120057</td>\n",
       "      <td>0.000361</td>\n",
       "      <td>...</td>\n",
       "      <td>1.284199</td>\n",
       "      <td>0.008561</td>\n",
       "      <td>1.030545</td>\n",
       "      <td>3.595161</td>\n",
       "      <td>0.253151</td>\n",
       "      <td>0.345331</td>\n",
       "      <td>1.803205</td>\n",
       "      <td>1.090942</td>\n",
       "      <td>0.000000</td>\n",
       "      <td>1</td>\n",
       "    </tr>\n",
       "    <tr>\n",
       "      <td>1460</td>\n",
       "      <td>0.000195</td>\n",
       "      <td>0.006301</td>\n",
       "      <td>0.005559</td>\n",
       "      <td>0.001432</td>\n",
       "      <td>0.073356</td>\n",
       "      <td>0.171143</td>\n",
       "      <td>0.000087</td>\n",
       "      <td>0.003747</td>\n",
       "      <td>0.085518</td>\n",
       "      <td>0.000317</td>\n",
       "      <td>...</td>\n",
       "      <td>0.853218</td>\n",
       "      <td>0.183385</td>\n",
       "      <td>1.813106</td>\n",
       "      <td>3.370378</td>\n",
       "      <td>0.796348</td>\n",
       "      <td>0.676828</td>\n",
       "      <td>2.398683</td>\n",
       "      <td>0.764571</td>\n",
       "      <td>0.001031</td>\n",
       "      <td>0</td>\n",
       "    </tr>\n",
       "    <tr>\n",
       "      <td>...</td>\n",
       "      <td>...</td>\n",
       "      <td>...</td>\n",
       "      <td>...</td>\n",
       "      <td>...</td>\n",
       "      <td>...</td>\n",
       "      <td>...</td>\n",
       "      <td>...</td>\n",
       "      <td>...</td>\n",
       "      <td>...</td>\n",
       "      <td>...</td>\n",
       "      <td>...</td>\n",
       "      <td>...</td>\n",
       "      <td>...</td>\n",
       "      <td>...</td>\n",
       "      <td>...</td>\n",
       "      <td>...</td>\n",
       "      <td>...</td>\n",
       "      <td>...</td>\n",
       "      <td>...</td>\n",
       "      <td>...</td>\n",
       "      <td>...</td>\n",
       "    </tr>\n",
       "    <tr>\n",
       "      <td>1477</td>\n",
       "      <td>0.000249</td>\n",
       "      <td>0.004734</td>\n",
       "      <td>0.005262</td>\n",
       "      <td>0.002141</td>\n",
       "      <td>0.051977</td>\n",
       "      <td>0.128750</td>\n",
       "      <td>0.000231</td>\n",
       "      <td>0.004757</td>\n",
       "      <td>0.078144</td>\n",
       "      <td>0.000220</td>\n",
       "      <td>...</td>\n",
       "      <td>1.448629</td>\n",
       "      <td>0.013715</td>\n",
       "      <td>0.458816</td>\n",
       "      <td>1.147369</td>\n",
       "      <td>0.929549</td>\n",
       "      <td>0.053814</td>\n",
       "      <td>1.088891</td>\n",
       "      <td>0.367010</td>\n",
       "      <td>0.000600</td>\n",
       "      <td>0</td>\n",
       "    </tr>\n",
       "    <tr>\n",
       "      <td>379</td>\n",
       "      <td>0.000397</td>\n",
       "      <td>0.004279</td>\n",
       "      <td>0.006253</td>\n",
       "      <td>0.002353</td>\n",
       "      <td>0.066394</td>\n",
       "      <td>0.159141</td>\n",
       "      <td>0.000156</td>\n",
       "      <td>0.004833</td>\n",
       "      <td>0.174754</td>\n",
       "      <td>0.000300</td>\n",
       "      <td>...</td>\n",
       "      <td>1.233485</td>\n",
       "      <td>0.222614</td>\n",
       "      <td>2.609710</td>\n",
       "      <td>4.668143</td>\n",
       "      <td>1.015034</td>\n",
       "      <td>0.047762</td>\n",
       "      <td>1.349685</td>\n",
       "      <td>0.356938</td>\n",
       "      <td>0.005947</td>\n",
       "      <td>1</td>\n",
       "    </tr>\n",
       "    <tr>\n",
       "      <td>493</td>\n",
       "      <td>0.000469</td>\n",
       "      <td>0.002929</td>\n",
       "      <td>0.006386</td>\n",
       "      <td>0.001632</td>\n",
       "      <td>0.068914</td>\n",
       "      <td>0.155008</td>\n",
       "      <td>0.000139</td>\n",
       "      <td>0.005120</td>\n",
       "      <td>0.090335</td>\n",
       "      <td>0.000510</td>\n",
       "      <td>...</td>\n",
       "      <td>1.365972</td>\n",
       "      <td>0.076738</td>\n",
       "      <td>2.914866</td>\n",
       "      <td>5.271226</td>\n",
       "      <td>0.999821</td>\n",
       "      <td>0.063660</td>\n",
       "      <td>1.137830</td>\n",
       "      <td>0.321697</td>\n",
       "      <td>0.012996</td>\n",
       "      <td>1</td>\n",
       "    </tr>\n",
       "    <tr>\n",
       "      <td>1840</td>\n",
       "      <td>0.000263</td>\n",
       "      <td>0.004134</td>\n",
       "      <td>0.006194</td>\n",
       "      <td>0.002821</td>\n",
       "      <td>0.049277</td>\n",
       "      <td>0.189895</td>\n",
       "      <td>0.000137</td>\n",
       "      <td>0.004162</td>\n",
       "      <td>0.054290</td>\n",
       "      <td>0.000518</td>\n",
       "      <td>...</td>\n",
       "      <td>1.119977</td>\n",
       "      <td>0.078827</td>\n",
       "      <td>2.279242</td>\n",
       "      <td>4.727245</td>\n",
       "      <td>1.041010</td>\n",
       "      <td>0.004002</td>\n",
       "      <td>2.505481</td>\n",
       "      <td>0.345967</td>\n",
       "      <td>0.101249</td>\n",
       "      <td>0</td>\n",
       "    </tr>\n",
       "    <tr>\n",
       "      <td>132</td>\n",
       "      <td>0.000261</td>\n",
       "      <td>0.004252</td>\n",
       "      <td>0.005382</td>\n",
       "      <td>0.001816</td>\n",
       "      <td>0.087432</td>\n",
       "      <td>0.097001</td>\n",
       "      <td>0.000033</td>\n",
       "      <td>0.005001</td>\n",
       "      <td>0.071680</td>\n",
       "      <td>0.000627</td>\n",
       "      <td>...</td>\n",
       "      <td>1.398213</td>\n",
       "      <td>0.027392</td>\n",
       "      <td>2.283216</td>\n",
       "      <td>4.116096</td>\n",
       "      <td>0.545922</td>\n",
       "      <td>0.108577</td>\n",
       "      <td>2.951981</td>\n",
       "      <td>0.682174</td>\n",
       "      <td>0.004305</td>\n",
       "      <td>1</td>\n",
       "    </tr>\n",
       "  </tbody>\n",
       "</table>\n",
       "<p>2000 rows × 1025 columns</p>\n",
       "</div>"
      ],
      "text/plain": [
       "             0         1         2         3         4         5         6  \\\n",
       "681   0.000328  0.004929  0.005321  0.001292  0.062069  0.082650  0.000331   \n",
       "189   0.000354  0.003756  0.006153  0.002245  0.055913  0.157290  0.000135   \n",
       "301   0.000502  0.003099  0.004760  0.002010  0.133078  0.091959  0.000024   \n",
       "76    0.000388  0.006418  0.003129  0.001311  0.127444  0.298274  0.000059   \n",
       "1460  0.000195  0.006301  0.005559  0.001432  0.073356  0.171143  0.000087   \n",
       "...        ...       ...       ...       ...       ...       ...       ...   \n",
       "1477  0.000249  0.004734  0.005262  0.002141  0.051977  0.128750  0.000231   \n",
       "379   0.000397  0.004279  0.006253  0.002353  0.066394  0.159141  0.000156   \n",
       "493   0.000469  0.002929  0.006386  0.001632  0.068914  0.155008  0.000139   \n",
       "1840  0.000263  0.004134  0.006194  0.002821  0.049277  0.189895  0.000137   \n",
       "132   0.000261  0.004252  0.005382  0.001816  0.087432  0.097001  0.000033   \n",
       "\n",
       "             7         8         9  ...      1015      1016      1017  \\\n",
       "681   0.004861  0.075276  0.000299  ...  2.107787  0.076287  0.556899   \n",
       "189   0.004607  0.084984  0.000538  ...  1.706620  0.023214  1.320187   \n",
       "301   0.004929  0.050983  0.000432  ...  0.796577  0.184707  2.506305   \n",
       "76    0.004782  0.120057  0.000361  ...  1.284199  0.008561  1.030545   \n",
       "1460  0.003747  0.085518  0.000317  ...  0.853218  0.183385  1.813106   \n",
       "...        ...       ...       ...  ...       ...       ...       ...   \n",
       "1477  0.004757  0.078144  0.000220  ...  1.448629  0.013715  0.458816   \n",
       "379   0.004833  0.174754  0.000300  ...  1.233485  0.222614  2.609710   \n",
       "493   0.005120  0.090335  0.000510  ...  1.365972  0.076738  2.914866   \n",
       "1840  0.004162  0.054290  0.000518  ...  1.119977  0.078827  2.279242   \n",
       "132   0.005001  0.071680  0.000627  ...  1.398213  0.027392  2.283216   \n",
       "\n",
       "          1018      1019      1020      1021      1022      1023  0.1  \n",
       "681   2.712120  0.494462  0.854842  0.601104  0.536811  0.017668    1  \n",
       "189   4.697856  1.902558  0.063625  2.158739  0.746960  0.022849    1  \n",
       "301   2.013427  0.994651  0.351000  1.755205  0.970697  0.000000    1  \n",
       "76    3.595161  0.253151  0.345331  1.803205  1.090942  0.000000    1  \n",
       "1460  3.370378  0.796348  0.676828  2.398683  0.764571  0.001031    0  \n",
       "...        ...       ...       ...       ...       ...       ...  ...  \n",
       "1477  1.147369  0.929549  0.053814  1.088891  0.367010  0.000600    0  \n",
       "379   4.668143  1.015034  0.047762  1.349685  0.356938  0.005947    1  \n",
       "493   5.271226  0.999821  0.063660  1.137830  0.321697  0.012996    1  \n",
       "1840  4.727245  1.041010  0.004002  2.505481  0.345967  0.101249    0  \n",
       "132   4.116096  0.545922  0.108577  2.951981  0.682174  0.004305    1  \n",
       "\n",
       "[2000 rows x 1025 columns]"
      ]
     },
     "execution_count": 19,
     "metadata": {},
     "output_type": "execute_result"
    }
   ],
   "source": [
    "train"
   ]
  },
  {
   "cell_type": "code",
   "execution_count": 20,
   "metadata": {},
   "outputs": [
    {
     "data": {
      "text/html": [
       "<div>\n",
       "<style scoped>\n",
       "    .dataframe tbody tr th:only-of-type {\n",
       "        vertical-align: middle;\n",
       "    }\n",
       "\n",
       "    .dataframe tbody tr th {\n",
       "        vertical-align: top;\n",
       "    }\n",
       "\n",
       "    .dataframe thead th {\n",
       "        text-align: right;\n",
       "    }\n",
       "</style>\n",
       "<table border=\"1\" class=\"dataframe\">\n",
       "  <thead>\n",
       "    <tr style=\"text-align: right;\">\n",
       "      <th></th>\n",
       "      <th>0</th>\n",
       "      <th>1</th>\n",
       "      <th>2</th>\n",
       "      <th>3</th>\n",
       "      <th>4</th>\n",
       "      <th>5</th>\n",
       "      <th>6</th>\n",
       "      <th>7</th>\n",
       "      <th>8</th>\n",
       "      <th>9</th>\n",
       "      <th>...</th>\n",
       "      <th>1015</th>\n",
       "      <th>1016</th>\n",
       "      <th>1017</th>\n",
       "      <th>1018</th>\n",
       "      <th>1019</th>\n",
       "      <th>1020</th>\n",
       "      <th>1021</th>\n",
       "      <th>1022</th>\n",
       "      <th>1023</th>\n",
       "      <th>0.1</th>\n",
       "    </tr>\n",
       "  </thead>\n",
       "  <tbody>\n",
       "    <tr>\n",
       "      <td>216</td>\n",
       "      <td>0.000387</td>\n",
       "      <td>0.005948</td>\n",
       "      <td>0.006024</td>\n",
       "      <td>0.001872</td>\n",
       "      <td>0.017941</td>\n",
       "      <td>0.185492</td>\n",
       "      <td>0.000040</td>\n",
       "      <td>0.004360</td>\n",
       "      <td>0.105758</td>\n",
       "      <td>0.000443</td>\n",
       "      <td>...</td>\n",
       "      <td>1.280552</td>\n",
       "      <td>0.046839</td>\n",
       "      <td>1.844912</td>\n",
       "      <td>6.113249</td>\n",
       "      <td>0.710792</td>\n",
       "      <td>0.253530</td>\n",
       "      <td>1.775999</td>\n",
       "      <td>0.151714</td>\n",
       "      <td>0.000000</td>\n",
       "      <td>1</td>\n",
       "    </tr>\n",
       "    <tr>\n",
       "      <td>489</td>\n",
       "      <td>0.000398</td>\n",
       "      <td>0.006456</td>\n",
       "      <td>0.006456</td>\n",
       "      <td>0.001164</td>\n",
       "      <td>0.068152</td>\n",
       "      <td>0.256730</td>\n",
       "      <td>0.000075</td>\n",
       "      <td>0.002955</td>\n",
       "      <td>0.093508</td>\n",
       "      <td>0.000300</td>\n",
       "      <td>...</td>\n",
       "      <td>1.016972</td>\n",
       "      <td>0.013050</td>\n",
       "      <td>1.643988</td>\n",
       "      <td>5.726941</td>\n",
       "      <td>1.065186</td>\n",
       "      <td>0.315162</td>\n",
       "      <td>2.045097</td>\n",
       "      <td>0.112033</td>\n",
       "      <td>0.000000</td>\n",
       "      <td>0</td>\n",
       "    </tr>\n",
       "    <tr>\n",
       "      <td>22</td>\n",
       "      <td>0.000286</td>\n",
       "      <td>0.003223</td>\n",
       "      <td>0.004428</td>\n",
       "      <td>0.001004</td>\n",
       "      <td>0.098626</td>\n",
       "      <td>0.091285</td>\n",
       "      <td>0.000171</td>\n",
       "      <td>0.005143</td>\n",
       "      <td>0.061219</td>\n",
       "      <td>0.000586</td>\n",
       "      <td>...</td>\n",
       "      <td>2.425678</td>\n",
       "      <td>0.000000</td>\n",
       "      <td>0.480254</td>\n",
       "      <td>3.065145</td>\n",
       "      <td>0.318746</td>\n",
       "      <td>0.257633</td>\n",
       "      <td>1.417657</td>\n",
       "      <td>0.021746</td>\n",
       "      <td>0.309567</td>\n",
       "      <td>1</td>\n",
       "    </tr>\n",
       "    <tr>\n",
       "      <td>393</td>\n",
       "      <td>0.000308</td>\n",
       "      <td>0.008241</td>\n",
       "      <td>0.004000</td>\n",
       "      <td>0.001748</td>\n",
       "      <td>0.044088</td>\n",
       "      <td>0.067985</td>\n",
       "      <td>0.000174</td>\n",
       "      <td>0.003169</td>\n",
       "      <td>0.097094</td>\n",
       "      <td>0.000255</td>\n",
       "      <td>...</td>\n",
       "      <td>0.645134</td>\n",
       "      <td>0.134939</td>\n",
       "      <td>1.872966</td>\n",
       "      <td>2.424074</td>\n",
       "      <td>0.808562</td>\n",
       "      <td>1.058071</td>\n",
       "      <td>1.571155</td>\n",
       "      <td>0.671355</td>\n",
       "      <td>0.000000</td>\n",
       "      <td>0</td>\n",
       "    </tr>\n",
       "    <tr>\n",
       "      <td>348</td>\n",
       "      <td>0.000430</td>\n",
       "      <td>0.006087</td>\n",
       "      <td>0.005008</td>\n",
       "      <td>0.001359</td>\n",
       "      <td>0.088423</td>\n",
       "      <td>0.216628</td>\n",
       "      <td>0.000172</td>\n",
       "      <td>0.003516</td>\n",
       "      <td>0.095528</td>\n",
       "      <td>0.000371</td>\n",
       "      <td>...</td>\n",
       "      <td>0.951533</td>\n",
       "      <td>0.159820</td>\n",
       "      <td>1.829887</td>\n",
       "      <td>2.162867</td>\n",
       "      <td>0.923948</td>\n",
       "      <td>0.201588</td>\n",
       "      <td>2.179037</td>\n",
       "      <td>0.057776</td>\n",
       "      <td>0.000741</td>\n",
       "      <td>0</td>\n",
       "    </tr>\n",
       "    <tr>\n",
       "      <td>...</td>\n",
       "      <td>...</td>\n",
       "      <td>...</td>\n",
       "      <td>...</td>\n",
       "      <td>...</td>\n",
       "      <td>...</td>\n",
       "      <td>...</td>\n",
       "      <td>...</td>\n",
       "      <td>...</td>\n",
       "      <td>...</td>\n",
       "      <td>...</td>\n",
       "      <td>...</td>\n",
       "      <td>...</td>\n",
       "      <td>...</td>\n",
       "      <td>...</td>\n",
       "      <td>...</td>\n",
       "      <td>...</td>\n",
       "      <td>...</td>\n",
       "      <td>...</td>\n",
       "      <td>...</td>\n",
       "      <td>...</td>\n",
       "      <td>...</td>\n",
       "    </tr>\n",
       "    <tr>\n",
       "      <td>197</td>\n",
       "      <td>0.000352</td>\n",
       "      <td>0.003799</td>\n",
       "      <td>0.004755</td>\n",
       "      <td>0.001706</td>\n",
       "      <td>0.102503</td>\n",
       "      <td>0.206908</td>\n",
       "      <td>0.000126</td>\n",
       "      <td>0.004917</td>\n",
       "      <td>0.031961</td>\n",
       "      <td>0.000621</td>\n",
       "      <td>...</td>\n",
       "      <td>0.841271</td>\n",
       "      <td>0.006987</td>\n",
       "      <td>3.489501</td>\n",
       "      <td>2.758476</td>\n",
       "      <td>0.630339</td>\n",
       "      <td>0.113092</td>\n",
       "      <td>1.315572</td>\n",
       "      <td>0.294781</td>\n",
       "      <td>0.000000</td>\n",
       "      <td>1</td>\n",
       "    </tr>\n",
       "    <tr>\n",
       "      <td>273</td>\n",
       "      <td>0.000325</td>\n",
       "      <td>0.004576</td>\n",
       "      <td>0.005538</td>\n",
       "      <td>0.001045</td>\n",
       "      <td>0.074161</td>\n",
       "      <td>0.145141</td>\n",
       "      <td>0.000383</td>\n",
       "      <td>0.002590</td>\n",
       "      <td>0.085477</td>\n",
       "      <td>0.000233</td>\n",
       "      <td>...</td>\n",
       "      <td>0.742080</td>\n",
       "      <td>0.356190</td>\n",
       "      <td>1.786600</td>\n",
       "      <td>2.291053</td>\n",
       "      <td>1.823770</td>\n",
       "      <td>0.116757</td>\n",
       "      <td>1.524148</td>\n",
       "      <td>1.468097</td>\n",
       "      <td>0.038115</td>\n",
       "      <td>1</td>\n",
       "    </tr>\n",
       "    <tr>\n",
       "      <td>308</td>\n",
       "      <td>0.000240</td>\n",
       "      <td>0.003662</td>\n",
       "      <td>0.005214</td>\n",
       "      <td>0.002168</td>\n",
       "      <td>0.095304</td>\n",
       "      <td>0.212701</td>\n",
       "      <td>0.000138</td>\n",
       "      <td>0.006207</td>\n",
       "      <td>0.047548</td>\n",
       "      <td>0.000427</td>\n",
       "      <td>...</td>\n",
       "      <td>1.428999</td>\n",
       "      <td>0.036013</td>\n",
       "      <td>1.920795</td>\n",
       "      <td>3.006510</td>\n",
       "      <td>1.295880</td>\n",
       "      <td>0.069982</td>\n",
       "      <td>1.526826</td>\n",
       "      <td>0.150906</td>\n",
       "      <td>0.026147</td>\n",
       "      <td>1</td>\n",
       "    </tr>\n",
       "    <tr>\n",
       "      <td>479</td>\n",
       "      <td>0.000309</td>\n",
       "      <td>0.005409</td>\n",
       "      <td>0.004772</td>\n",
       "      <td>0.001727</td>\n",
       "      <td>0.061584</td>\n",
       "      <td>0.238056</td>\n",
       "      <td>0.000065</td>\n",
       "      <td>0.004549</td>\n",
       "      <td>0.087378</td>\n",
       "      <td>0.000372</td>\n",
       "      <td>...</td>\n",
       "      <td>0.664947</td>\n",
       "      <td>0.000000</td>\n",
       "      <td>0.902430</td>\n",
       "      <td>2.524022</td>\n",
       "      <td>0.819901</td>\n",
       "      <td>0.132667</td>\n",
       "      <td>1.568287</td>\n",
       "      <td>0.152060</td>\n",
       "      <td>0.007761</td>\n",
       "      <td>0</td>\n",
       "    </tr>\n",
       "    <tr>\n",
       "      <td>542</td>\n",
       "      <td>0.000395</td>\n",
       "      <td>0.007239</td>\n",
       "      <td>0.005151</td>\n",
       "      <td>0.001799</td>\n",
       "      <td>0.038967</td>\n",
       "      <td>0.226360</td>\n",
       "      <td>0.000185</td>\n",
       "      <td>0.004112</td>\n",
       "      <td>0.156873</td>\n",
       "      <td>0.000355</td>\n",
       "      <td>...</td>\n",
       "      <td>1.015683</td>\n",
       "      <td>0.014177</td>\n",
       "      <td>0.954307</td>\n",
       "      <td>2.731286</td>\n",
       "      <td>0.891964</td>\n",
       "      <td>0.853566</td>\n",
       "      <td>2.294756</td>\n",
       "      <td>1.197423</td>\n",
       "      <td>0.005936</td>\n",
       "      <td>0</td>\n",
       "    </tr>\n",
       "  </tbody>\n",
       "</table>\n",
       "<p>682 rows × 1025 columns</p>\n",
       "</div>"
      ],
      "text/plain": [
       "            0         1         2         3         4         5         6  \\\n",
       "216  0.000387  0.005948  0.006024  0.001872  0.017941  0.185492  0.000040   \n",
       "489  0.000398  0.006456  0.006456  0.001164  0.068152  0.256730  0.000075   \n",
       "22   0.000286  0.003223  0.004428  0.001004  0.098626  0.091285  0.000171   \n",
       "393  0.000308  0.008241  0.004000  0.001748  0.044088  0.067985  0.000174   \n",
       "348  0.000430  0.006087  0.005008  0.001359  0.088423  0.216628  0.000172   \n",
       "..        ...       ...       ...       ...       ...       ...       ...   \n",
       "197  0.000352  0.003799  0.004755  0.001706  0.102503  0.206908  0.000126   \n",
       "273  0.000325  0.004576  0.005538  0.001045  0.074161  0.145141  0.000383   \n",
       "308  0.000240  0.003662  0.005214  0.002168  0.095304  0.212701  0.000138   \n",
       "479  0.000309  0.005409  0.004772  0.001727  0.061584  0.238056  0.000065   \n",
       "542  0.000395  0.007239  0.005151  0.001799  0.038967  0.226360  0.000185   \n",
       "\n",
       "            7         8         9  ...      1015      1016      1017  \\\n",
       "216  0.004360  0.105758  0.000443  ...  1.280552  0.046839  1.844912   \n",
       "489  0.002955  0.093508  0.000300  ...  1.016972  0.013050  1.643988   \n",
       "22   0.005143  0.061219  0.000586  ...  2.425678  0.000000  0.480254   \n",
       "393  0.003169  0.097094  0.000255  ...  0.645134  0.134939  1.872966   \n",
       "348  0.003516  0.095528  0.000371  ...  0.951533  0.159820  1.829887   \n",
       "..        ...       ...       ...  ...       ...       ...       ...   \n",
       "197  0.004917  0.031961  0.000621  ...  0.841271  0.006987  3.489501   \n",
       "273  0.002590  0.085477  0.000233  ...  0.742080  0.356190  1.786600   \n",
       "308  0.006207  0.047548  0.000427  ...  1.428999  0.036013  1.920795   \n",
       "479  0.004549  0.087378  0.000372  ...  0.664947  0.000000  0.902430   \n",
       "542  0.004112  0.156873  0.000355  ...  1.015683  0.014177  0.954307   \n",
       "\n",
       "         1018      1019      1020      1021      1022      1023  0.1  \n",
       "216  6.113249  0.710792  0.253530  1.775999  0.151714  0.000000    1  \n",
       "489  5.726941  1.065186  0.315162  2.045097  0.112033  0.000000    0  \n",
       "22   3.065145  0.318746  0.257633  1.417657  0.021746  0.309567    1  \n",
       "393  2.424074  0.808562  1.058071  1.571155  0.671355  0.000000    0  \n",
       "348  2.162867  0.923948  0.201588  2.179037  0.057776  0.000741    0  \n",
       "..        ...       ...       ...       ...       ...       ...  ...  \n",
       "197  2.758476  0.630339  0.113092  1.315572  0.294781  0.000000    1  \n",
       "273  2.291053  1.823770  0.116757  1.524148  1.468097  0.038115    1  \n",
       "308  3.006510  1.295880  0.069982  1.526826  0.150906  0.026147    1  \n",
       "479  2.524022  0.819901  0.132667  1.568287  0.152060  0.007761    0  \n",
       "542  2.731286  0.891964  0.853566  2.294756  1.197423  0.005936    0  \n",
       "\n",
       "[682 rows x 1025 columns]"
      ]
     },
     "execution_count": 20,
     "metadata": {},
     "output_type": "execute_result"
    }
   ],
   "source": [
    "test"
   ]
  },
  {
   "cell_type": "code",
   "execution_count": 21,
   "metadata": {},
   "outputs": [],
   "source": [
    "X_train = train.iloc[:,:-1]\n",
    "y_train = train.iloc[:,-1]\n"
   ]
  },
  {
   "cell_type": "code",
   "execution_count": 22,
   "metadata": {},
   "outputs": [],
   "source": [
    "X_test = test.iloc[:,:-1]\n",
    "y_test = test.iloc[:,-1]  #0 ou 1"
   ]
  },
  {
   "cell_type": "markdown",
   "metadata": {},
   "source": [
    "<h1><b><font color=blue >3. Algorithmes</font></b></h1>"
   ]
  },
  {
   "cell_type": "markdown",
   "metadata": {},
   "source": [
    "<h2><b><font color=black >3.1 Random Forest</font></b></h2>"
   ]
  },
  {
   "cell_type": "code",
   "execution_count": 23,
   "metadata": {},
   "outputs": [],
   "source": [
    "rfc = RandomForestClassifier(50)"
   ]
  },
  {
   "cell_type": "code",
   "execution_count": 24,
   "metadata": {},
   "outputs": [
    {
     "data": {
      "text/plain": [
       "RandomForestClassifier(bootstrap=True, class_weight=None, criterion='gini',\n",
       "                       max_depth=None, max_features='auto', max_leaf_nodes=None,\n",
       "                       min_impurity_decrease=0.0, min_impurity_split=None,\n",
       "                       min_samples_leaf=1, min_samples_split=2,\n",
       "                       min_weight_fraction_leaf=0.0, n_estimators=50,\n",
       "                       n_jobs=None, oob_score=False, random_state=None,\n",
       "                       verbose=0, warm_start=False)"
      ]
     },
     "execution_count": 24,
     "metadata": {},
     "output_type": "execute_result"
    }
   ],
   "source": [
    "rfc.fit(X_train, y_train)"
   ]
  },
  {
   "cell_type": "code",
   "execution_count": 25,
   "metadata": {},
   "outputs": [],
   "source": [
    "pred = rfc.predict(X_test)"
   ]
  },
  {
   "cell_type": "markdown",
   "metadata": {},
   "source": [
    "<h2><b><font color=black >3.1.1 Accuracy_score</font></b></h2>"
   ]
  },
  {
   "cell_type": "code",
   "execution_count": 26,
   "metadata": {},
   "outputs": [
    {
     "data": {
      "text/plain": [
       "0.9413489736070382"
      ]
     },
     "execution_count": 26,
     "metadata": {},
     "output_type": "execute_result"
    }
   ],
   "source": [
    "accuracy_score(pred, y_test)"
   ]
  },
  {
   "cell_type": "code",
   "execution_count": 27,
   "metadata": {},
   "outputs": [
    {
     "data": {
      "text/plain": [
       "0.9411764705882353"
      ]
     },
     "execution_count": 27,
     "metadata": {},
     "output_type": "execute_result"
    }
   ],
   "source": [
    "f1_score(pred, y_test)"
   ]
  },
  {
   "cell_type": "markdown",
   "metadata": {},
   "source": [
    "<h2><b><font color=black >3.1.2 Confusion_matrix</font></b></h2>"
   ]
  },
  {
   "cell_type": "code",
   "execution_count": 28,
   "metadata": {},
   "outputs": [
    {
     "data": {
      "text/plain": [
       "array([[322,  21],\n",
       "       [ 19, 320]], dtype=int64)"
      ]
     },
     "execution_count": 28,
     "metadata": {},
     "output_type": "execute_result"
    }
   ],
   "source": [
    "confusion_matrix(pred, y_test)"
   ]
  },
  {
   "cell_type": "markdown",
   "metadata": {},
   "source": [
    "<h2><b><font color=black >3.2 SVM</font></b></h2>"
   ]
  },
  {
   "cell_type": "code",
   "execution_count": 29,
   "metadata": {},
   "outputs": [],
   "source": [
    "svm = SVC()"
   ]
  },
  {
   "cell_type": "code",
   "execution_count": 30,
   "metadata": {},
   "outputs": [
    {
     "name": "stderr",
     "output_type": "stream",
     "text": [
      "E:\\Anaconda\\lib\\site-packages\\sklearn\\svm\\base.py:193: FutureWarning: The default value of gamma will change from 'auto' to 'scale' in version 0.22 to account better for unscaled features. Set gamma explicitly to 'auto' or 'scale' to avoid this warning.\n",
      "  \"avoid this warning.\", FutureWarning)\n"
     ]
    },
    {
     "data": {
      "text/plain": [
       "SVC(C=1.0, cache_size=200, class_weight=None, coef0=0.0,\n",
       "    decision_function_shape='ovr', degree=3, gamma='auto_deprecated',\n",
       "    kernel='rbf', max_iter=-1, probability=False, random_state=None,\n",
       "    shrinking=True, tol=0.001, verbose=False)"
      ]
     },
     "execution_count": 30,
     "metadata": {},
     "output_type": "execute_result"
    }
   ],
   "source": [
    "svm.fit(X_train, y_train)"
   ]
  },
  {
   "cell_type": "code",
   "execution_count": 31,
   "metadata": {},
   "outputs": [],
   "source": [
    "pred2 = svm.predict(X_test)"
   ]
  },
  {
   "cell_type": "markdown",
   "metadata": {},
   "source": [
    "<h2><b><font color=black >3.2.1 Accuracy_score</font></b></h2>"
   ]
  },
  {
   "cell_type": "code",
   "execution_count": 32,
   "metadata": {},
   "outputs": [
    {
     "data": {
      "text/plain": [
       "0.9442815249266863"
      ]
     },
     "execution_count": 32,
     "metadata": {},
     "output_type": "execute_result"
    }
   ],
   "source": [
    "accuracy_score(pred2, y_test)"
   ]
  },
  {
   "cell_type": "markdown",
   "metadata": {},
   "source": [
    "<h2><b><font color=black >3.2.2 Confusion_matrix</font></b></h2>"
   ]
  },
  {
   "cell_type": "code",
   "execution_count": 33,
   "metadata": {},
   "outputs": [
    {
     "data": {
      "text/plain": [
       "array([[325,  22],\n",
       "       [ 16, 319]], dtype=int64)"
      ]
     },
     "execution_count": 33,
     "metadata": {},
     "output_type": "execute_result"
    }
   ],
   "source": [
    "confusion_matrix(pred2, y_test)"
   ]
  },
  {
   "cell_type": "code",
   "execution_count": 38,
   "metadata": {},
   "outputs": [
    {
     "data": {
      "text/plain": [
       "0.9437869822485206"
      ]
     },
     "execution_count": 38,
     "metadata": {},
     "output_type": "execute_result"
    }
   ],
   "source": [
    "f1_score(pred2, y_test)"
   ]
  },
  {
   "cell_type": "markdown",
   "metadata": {},
   "source": [
    "<h2><b><font color=black >3.3 XGboost</font></b></h2>"
   ]
  },
  {
   "cell_type": "code",
   "execution_count": 43,
   "metadata": {},
   "outputs": [],
   "source": [
    "xgboost = XGBRFClassifier()"
   ]
  },
  {
   "cell_type": "code",
   "execution_count": 44,
   "metadata": {},
   "outputs": [
    {
     "data": {
      "text/plain": [
       "XGBRFClassifier(base_score=0.5, booster='gbtree', colsample_bylevel=1,\n",
       "                colsample_bynode=0.8, colsample_bytree=1, gamma=0, gpu_id=-1,\n",
       "                importance_type='gain', interaction_constraints='',\n",
       "                learning_rate=1, max_delta_step=0, max_depth=6,\n",
       "                min_child_weight=1, missing=nan, monotone_constraints='()',\n",
       "                n_estimators=100, n_jobs=0, num_parallel_tree=100,\n",
       "                objective='binary:logistic', random_state=0, reg_alpha=0,\n",
       "                reg_lambda=1e-05, scale_pos_weight=1, subsample=0.8,\n",
       "                tree_method='exact', validate_parameters=1, verbosity=None)"
      ]
     },
     "execution_count": 44,
     "metadata": {},
     "output_type": "execute_result"
    }
   ],
   "source": [
    "xgboost.fit(X_train, y_train)"
   ]
  },
  {
   "cell_type": "code",
   "execution_count": 45,
   "metadata": {},
   "outputs": [],
   "source": [
    "pred3 = xgboost.predict(X_test)"
   ]
  },
  {
   "cell_type": "markdown",
   "metadata": {},
   "source": [
    "<h2><b><font color=black >3.3.1 Accuracy_score</font></b></h2>"
   ]
  },
  {
   "cell_type": "code",
   "execution_count": 46,
   "metadata": {},
   "outputs": [
    {
     "data": {
      "text/plain": [
       "0.9501466275659824"
      ]
     },
     "execution_count": 46,
     "metadata": {},
     "output_type": "execute_result"
    }
   ],
   "source": [
    "accuracy_score(pred3, y_test)"
   ]
  },
  {
   "cell_type": "markdown",
   "metadata": {},
   "source": [
    "<h2><b><font color=black >3.3.2 Confusion_matrix</font></b></h2>"
   ]
  },
  {
   "cell_type": "code",
   "execution_count": 47,
   "metadata": {},
   "outputs": [
    {
     "data": {
      "text/plain": [
       "array([[325,  18],\n",
       "       [ 16, 323]], dtype=int64)"
      ]
     },
     "execution_count": 47,
     "metadata": {},
     "output_type": "execute_result"
    }
   ],
   "source": [
    "confusion_matrix(pred3, y_test)"
   ]
  },
  {
   "cell_type": "code",
   "execution_count": 48,
   "metadata": {},
   "outputs": [
    {
     "data": {
      "text/plain": [
       "0.9500000000000001"
      ]
     },
     "execution_count": 48,
     "metadata": {},
     "output_type": "execute_result"
    }
   ],
   "source": [
    "f1_score(pred3, y_test)"
   ]
  },
  {
   "cell_type": "markdown",
   "metadata": {},
   "source": [
    "<h1><b><font color=blue >4. ROC</font></b></h1>"
   ]
  },
  {
   "cell_type": "code",
   "execution_count": 54,
   "metadata": {},
   "outputs": [],
   "source": [
    "%matplotlib inline\n",
    "import matplotlib.pyplot as plt\n",
    "from sklearn.metrics import roc_curve, auc"
   ]
  },
  {
   "cell_type": "code",
   "execution_count": 55,
   "metadata": {},
   "outputs": [],
   "source": [
    "fpr1, tpr1, threshold1 = roc_curve(y_test, pred) \n",
    "roc_auc1 = auc(fpr1, tpr1)\n",
    "fpr2, tpr2, threshold2 = roc_curve(y_test, pred2) \n",
    "roc_auc2 = auc(fpr2, tpr2)\n",
    "fpr3, tpr3, threshold3 = roc_curve(y_test, pred3) \n",
    "roc_auc3 = auc(fpr3, tpr3)\n"
   ]
  },
  {
   "cell_type": "code",
   "execution_count": 57,
   "metadata": {},
   "outputs": [
    {
     "data": {
      "image/png": "[encoded data removed]",
      "text/plain": [
       "<Figure size 432x288 with 1 Axes>"
      ]
     },
     "metadata": {
      "needs_background": "light"
     },
     "output_type": "display_data"
    }
   ],
   "source": [
    "plt.figure() \n",
    "plt.plot(fpr1, tpr1, color='navy', lw=2, label='Random forest  (area = %0.2f)'% roc_auc1)\n",
    "plt.plot(fpr2, tpr2, color='green', lw=2, label='SVM (area = %0.2f)'% roc_auc2)\n",
    "plt.plot(fpr3, tpr3, color='yellow', lw=2, label='XGboost (area = %0.2f)'% roc_auc3)\n",
    "\n",
    "plt.plot([0, 1], [0, 1], color='red', lw=2, linestyle='--') \n",
    "plt.xlim([0.0, 1.0]) \n",
    "plt.ylim([0.0, 1.05]) \n",
    "plt.xlabel('False Positive Rate') \n",
    "plt.ylabel('True Positive Rate') \n",
    "plt.title('Classifiers ROC curves') \n",
    "plt.legend(loc = \"lower right\")\n",
    "plt.show()"
   ]
  }
 ],
 "metadata": {
  "kernelspec": {
   "display_name": "Python 3",
   "language": "python",
   "name": "python3"
  },
  "language_info": {
   "codemirror_mode": {
    "name": "ipython",
    "version": 3
   },
   "file_extension": ".py",
   "mimetype": "text/x-python",
   "name": "python",
   "nbconvert_exporter": "python",
   "pygments_lexer": "ipython3",
   "version": "3.7.4"
  }
 },
 "nbformat": 4,
 "nbformat_minor": 4
}
