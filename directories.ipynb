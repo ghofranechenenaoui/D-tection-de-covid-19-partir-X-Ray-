{
 "cells": [
  {
   "cell_type": "code",
   "execution_count": 20,
   "metadata": {},
   "outputs": [],
   "source": [
    "import numpy as np \n",
    "import pandas as pd \n",
    "import os\n",
    "import shutil\n",
    "from tensorflow import keras"
   ]
  },
  {
   "cell_type": "markdown",
   "metadata": {},
   "source": [
    "<h3> Original Path : </h3>"
   ]
  },
  {
   "cell_type": "code",
   "execution_count": 21,
   "metadata": {},
   "outputs": [],
   "source": [
    "tmp_path = \"deep-learning-competition-cs-2020\"\n",
    "\n",
    "tmp_train_path = os.path.join(tmp_path, \"train\",\"train\")\n",
    "tmp_valid_path = os.path.join(tmp_path, \"test\", \"test\")\n",
    "\n",
    "tmp_covid_path = os.path.join(tmp_train_path, \"COVID19 AND PNEUMONIA\")\n",
    "tmp_normal_path = os.path.join(tmp_train_path, \"NORMAL\")"
   ]
  },
  {
   "cell_type": "markdown",
   "metadata": {},
   "source": [
    "<h3> New Path : </h3>\n",
    "<br>\n",
    "<p> first manually create this directories :</p>\n",
    "    <ul>\n",
    "        <li> kaggle</li>\n",
    "        <ul> \n",
    "            <li> train </li>\n",
    "            <ul> \n",
    "                <li> true</li>\n",
    "                <li> false</li>\n",
    "            </ul>\n",
    "            <li>  test </li>\n",
    "            <ul> \n",
    "                <li> true</li>\n",
    "                <li> false</li>\n",
    "            </ul>\n",
    "        </ul>\n",
    "    </ul>"
   ]
  },
  {
   "cell_type": "code",
   "execution_count": 22,
   "metadata": {},
   "outputs": [],
   "source": [
    "path= \"kaggle\"\n",
    "\n",
    "train_path = os.path.join(path, \"train\")\n",
    "test_path = os.path.join(path, \"test\")\n",
    "\n",
    "true_train_path = os.path.join(train_path, \"true\")\n",
    "true_test_path = os.path.join(test_path, \"true\")\n",
    "\n",
    "false_train_path = os.path.join(train_path, \"false\")\n",
    "false_test_path = os.path.join(test_path, \"false\")"
   ]
  },
  {
   "cell_type": "markdown",
   "metadata": {},
   "source": [
    "<h2> calculating files in the original dataset :</h2>"
   ]
  },
  {
   "cell_type": "code",
   "execution_count": 23,
   "metadata": {},
   "outputs": [
    {
     "name": "stdout",
     "output_type": "stream",
     "text": [
      "covid:  3925\n",
      "normal:  1341\n",
      "****************************\n",
      "valid:  690\n"
     ]
    }
   ],
   "source": [
    "covid_images_total = len(os.listdir(tmp_covid_path))\n",
    "normal_images_total = len(os.listdir(tmp_normal_path))\n",
    "\n",
    "valid_images_total = len(os.listdir(tmp_valid_path))\n",
    "\n",
    "print(\"covid: \",covid_images_total)\n",
    "print(\"normal: \",normal_images_total)\n",
    "print(\"****************************\")\n",
    "print(\"valid: \",valid_images_total)"
   ]
  },
  {
   "cell_type": "code",
   "execution_count": 24,
   "metadata": {},
   "outputs": [],
   "source": [
    "target_size = 1000 \n",
    "test_size = 341\n",
    "# 1000 image is the optimum number for a balanced dataset\n",
    "images_to_gen = target_size - normal_images_total"
   ]
  },
  {
   "cell_type": "markdown",
   "metadata": {},
   "source": [
    "1000 images for training and 341 for testing for each category :"
   ]
  },
  {
   "cell_type": "markdown",
   "metadata": {},
   "source": [
    "<h3> selecting random files for the new dataset : </h3>"
   ]
  },
  {
   "cell_type": "code",
   "execution_count": 25,
   "metadata": {},
   "outputs": [],
   "source": [
    "tmp_covid = os.listdir(tmp_covid_path)\n",
    "np.random.shuffle(tmp_covid)\n",
    "train_covid = tmp_covid[:target_size]\n",
    "test_covid = tmp_covid[target_size:target_size+test_size]"
   ]
  },
  {
   "cell_type": "code",
   "execution_count": 26,
   "metadata": {},
   "outputs": [],
   "source": [
    "tmp_normal = os.listdir(tmp_normal_path)\n",
    "np.random.shuffle(tmp_normal)\n",
    "train_normal = tmp_normal[:normal_images_total-test_size]\n",
    "test_normal = tmp_normal[normal_images_total-test_size:]"
   ]
  },
  {
   "cell_type": "markdown",
   "metadata": {},
   "source": [
    "<h3> coying images into the new dataset : </h3>"
   ]
  },
  {
   "cell_type": "code",
   "execution_count": 27,
   "metadata": {},
   "outputs": [],
   "source": [
    "def delete_images(directory):\n",
    "    for file in os.listdir(directory):\n",
    "        os.remove(os.path.join(directory, file))\n",
    "\n",
    "def copy_images(path_src, path_des, array):\n",
    "    for image in array:\n",
    "        shutil.copy(os.path.join(path_src,image), path_des)"
   ]
  },
  {
   "cell_type": "code",
   "execution_count": 28,
   "metadata": {},
   "outputs": [],
   "source": [
    "delete_images(true_train_path)\n",
    "copy_images(tmp_covid_path, true_train_path, train_covid)"
   ]
  },
  {
   "cell_type": "code",
   "execution_count": 29,
   "metadata": {},
   "outputs": [],
   "source": [
    "delete_images(true_test_path)\n",
    "copy_images(tmp_covid_path, true_test_path, test_covid)"
   ]
  },
  {
   "cell_type": "code",
   "execution_count": 30,
   "metadata": {},
   "outputs": [],
   "source": [
    "delete_images(false_train_path)\n",
    "copy_images(tmp_normal_path, false_train_path, train_normal)"
   ]
  },
  {
   "cell_type": "code",
   "execution_count": 31,
   "metadata": {},
   "outputs": [],
   "source": [
    "delete_images(false_test_path)\n",
    "copy_images(tmp_normal_path, false_test_path, test_normal)"
   ]
  },
  {
   "cell_type": "markdown",
   "metadata": {},
   "source": [
    "<h3> verifing the new dataset : </h3>"
   ]
  },
  {
   "cell_type": "code",
   "execution_count": 32,
   "metadata": {},
   "outputs": [
    {
     "name": "stdout",
     "output_type": "stream",
     "text": [
      "train covid:   1000\n",
      "test covid:    341\n",
      "train normal:  1000\n",
      "test normal:   341\n"
     ]
    }
   ],
   "source": [
    "print(\"train covid:  \",len(os.listdir(true_train_path)))\n",
    "print(\"test covid:   \",len(os.listdir(true_test_path)))\n",
    "print(\"train normal: \",len(os.listdir(false_train_path)))\n",
    "print(\"test normal:  \",len(os.listdir(false_test_path)))"
   ]
  }
 ],
 "metadata": {
  "kernelspec": {
   "display_name": "Python 3",
   "language": "python",
   "name": "python3"
  },
  "language_info": {
   "codemirror_mode": {
    "name": "ipython",
    "version": 3
   },
   "file_extension": ".py",
   "mimetype": "text/x-python",
   "name": "python",
   "nbconvert_exporter": "python",
   "pygments_lexer": "ipython3",
   "version": "3.7.4"
  }
 },
 "nbformat": 4,
 "nbformat_minor": 4
}
